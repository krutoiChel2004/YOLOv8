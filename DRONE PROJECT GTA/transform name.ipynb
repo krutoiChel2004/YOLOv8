{
 "cells": [
  {
   "cell_type": "code",
   "execution_count": 37,
   "metadata": {},
   "outputs": [],
   "source": [
    "import os"
   ]
  },
  {
   "cell_type": "code",
   "execution_count": 39,
   "metadata": {},
   "outputs": [
    {
     "data": {
      "text/plain": [
       "2882"
      ]
     },
     "execution_count": 39,
     "metadata": {},
     "output_type": "execute_result"
    }
   ],
   "source": [
    "path = 'C:\\\\Users\\\\качёк\\\\Desktop\\\\DRONE PROJECT GTA\\\\DATA\\\\DATA_V3\\\\train\\\\train\\\\images'\n",
    "list = os.listdir(path)\n",
    "list_ban = []\n",
    "chars_to_remove = ['-', ' ', '.', '_']\n",
    "for i in list:\n",
    "    list_ban.append(''.join(j for j in i if not j in chars_to_remove).split('jpg')[0])\n",
    "len(list_ban)\n"
   ]
  },
  {
   "cell_type": "code",
   "execution_count": 31,
   "metadata": {},
   "outputs": [
    {
     "data": {
      "text/plain": [
       "'01_000001'"
      ]
     },
     "execution_count": 31,
     "metadata": {},
     "output_type": "execute_result"
    }
   ],
   "source": [
    "list[0][39:48]"
   ]
  },
  {
   "cell_type": "code",
   "execution_count": 32,
   "metadata": {},
   "outputs": [],
   "source": [
    "frame_path = 'C:\\\\Users\\\\качёк\\\\Videos\\\\frame'\n",
    "frame_list = os.listdir(frame_path)"
   ]
  },
  {
   "cell_type": "code",
   "execution_count": 36,
   "metadata": {},
   "outputs": [
    {
     "data": {
      "text/plain": [
       "37"
      ]
     },
     "execution_count": 36,
     "metadata": {},
     "output_type": "execute_result"
    }
   ],
   "source": [
    "path = 'C:\\\\Users\\\\качёк\\\\Videos\\\\frameV2'\n",
    "list = os.listdir(path)\n",
    "\n",
    "for i in list:\n",
    "    i = ''.join(j for j in i if not j in chars_to_remove).split('jpg')[0]\n",
    "\n",
    "    if i in list_ban:\n",
    "        os.rmdir(path=)"
   ]
  },
  {
   "cell_type": "code",
   "execution_count": null,
   "metadata": {},
   "outputs": [],
   "source": []
  }
 ],
 "metadata": {
  "kernelspec": {
   "display_name": "base",
   "language": "python",
   "name": "python3"
  },
  "language_info": {
   "codemirror_mode": {
    "name": "ipython",
    "version": 3
   },
   "file_extension": ".py",
   "mimetype": "text/x-python",
   "name": "python",
   "nbconvert_exporter": "python",
   "pygments_lexer": "ipython3",
   "version": "3.10.9"
  }
 },
 "nbformat": 4,
 "nbformat_minor": 2
}
